{
 "cells": [
  {
   "cell_type": "code",
   "execution_count": 19,
   "id": "71dfd5b4",
   "metadata": {},
   "outputs": [
    {
     "name": "stdout",
     "output_type": "stream",
     "text": [
      "***Annual Temperature Report for Seoul in 2022***\n",
      "1st Busiest Line: Line 2 ( 85620512 )\n",
      "2st Busiest Line: Line 4 ( 39671990 )\n",
      "1st Least used Line: Line 8 ( 11863928 )\n",
      "2st Least used Line: Line 1 ( 14705833 )\n"
     ]
    }
   ],
   "source": [
    "import csv\n",
    "\n",
    "def main():\n",
    "    f=open('202303_Seoul_Subway.csv',encoding='utf-8')\n",
    "    data = csv.reader(f)\n",
    "    next(data)\n",
    "    list=[0,0,0,0,0,0,0,0,0]\n",
    "\n",
    "    for row in data:\n",
    "        for i in range(4,6):\n",
    "            row[i] =int(row[i])\n",
    "\n",
    "        if(row[1]=='1호선'):\n",
    "            list[0]+=(row[4]+row[5])\n",
    "        if(row[1]=='2호선'):\n",
    "            list[1]+=(row[4]+row[5])\n",
    "        if(row[1]=='3호선'):\n",
    "            list[2]+=(row[4]+row[5])\n",
    "        if(row[1]=='4호선'):\n",
    "            list[3]+=(row[4]+row[5])\n",
    "        if(row[1]=='5호선'):\n",
    "            list[4]+=(row[4]+row[5])\n",
    "        if(row[1]=='6호선'):\n",
    "            list[5]+=(row[4]+row[5])\n",
    "        if(row[1]=='7호선'):\n",
    "            list[6]+=(row[4]+row[5])\n",
    "        if(row[1]=='8호선'):\n",
    "            list[7]+=(row[4]+row[5])\n",
    "        if(row[1]=='9호선'):\n",
    "            list[8]+=(row[4]+row[5])\n",
    "\n",
    "\n",
    "    max_index = list.index(max(list)) \n",
    "    min_index = list.index(min(list))\n",
    "\n",
    "    print(\"***Annual Temperature Report for Seoul in 2022***\")\n",
    "    print(\"1st Busiest Line: Line\",(max_index+1),\"(\",max(list),\")\")\n",
    "    list.remove(max(list))\n",
    "    max_index = list.index(max(list)) \n",
    "    print(\"2st Busiest Line: Line\",(max_index+1),\"(\",max(list),\")\")\n",
    "\n",
    "\n",
    "    print(\"1st Least used Line: Line\",(min_index+1),\"(\",min(list),\")\")\n",
    "    list.remove(min(list))\n",
    "    min_index = list.index(min(list))\n",
    "    print(\"2st Least used Line: Line\",(min_index+1),\"(\",min(list),\")\")\n",
    "\n",
    "if __name__ == '__main__':\n",
    "    main()"
   ]
  }
 ],
 "metadata": {
  "kernelspec": {
   "display_name": "Python 3 (ipykernel)",
   "language": "python",
   "name": "python3"
  },
  "language_info": {
   "codemirror_mode": {
    "name": "ipython",
    "version": 3
   },
   "file_extension": ".py",
   "mimetype": "text/x-python",
   "name": "python",
   "nbconvert_exporter": "python",
   "pygments_lexer": "ipython3",
   "version": "3.11.3"
  }
 },
 "nbformat": 4,
 "nbformat_minor": 5
}
