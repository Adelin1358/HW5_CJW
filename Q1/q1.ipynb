{
 "cells": [
  {
   "cell_type": "code",
   "execution_count": 49,
   "id": "72e33bec",
   "metadata": {},
   "outputs": [
    {
     "name": "stdout",
     "output_type": "stream",
     "text": [
      "***Annual Temperature Report for Seoul in 2022***\n",
      "Average Temperature: 4.42 Celsius\n",
      "Average Minimum TeTemperature 3.07 Celsius\n",
      "Average Minimum TeTemperature 6.01 Celsius\n"
     ]
    }
   ],
   "source": [
    "import csv\n",
    "\n",
    "def main():\n",
    "    f = open('2022_Seoul_Temp.csv')\n",
    "    data = csv.reader(f)\n",
    "    next(data)\n",
    "    \n",
    "    avg_T = 0\n",
    "    avg_M = 0\n",
    "    avg_m = 0\n",
    "    count = 0\n",
    "\n",
    "    for row in data:\n",
    "        # missing data 발견시 해당일자 전체 무시하시오.\n",
    "        try:\n",
    "            for i in range(2,5):\n",
    "                if row[i] == '':\n",
    "                    raise ValueError(\"Missing data\")\n",
    "                row[i] = float(row[i])\n",
    "                count += 1\n",
    "            \n",
    "        \n",
    "            avg_T += row[2]\n",
    "            avg_m += row[3]\n",
    "            avg_M += row[4]\n",
    "\n",
    "        except ValueError:\n",
    "            continue\n",
    "        \n",
    "    if count > 0:\n",
    "        avg_T = avg_T/count\n",
    "        avg_m = avg_m/count\n",
    "        avg_M = avg_M/count\n",
    "\n",
    "    print(\"***Annual Temperature Report for Seoul in 2022***\")\n",
    "    print(\"Average Temperature:\", round(avg_T, 2),\"Celsius\")\n",
    "    print(\"Average Minimum TeTemperature\",round(avg_m, 2),\"Celsius\")\n",
    "    print(\"Average Minimum TeTemperature\",round(avg_M, 2),\"Celsius\")\n",
    "    \n",
    "if __name__ == '__main__':\n",
    "    main()    "
   ]
  },
  {
   "cell_type": "code",
   "execution_count": null,
   "id": "da7b70cf",
   "metadata": {},
   "outputs": [],
   "source": []
  }
 ],
 "metadata": {
  "kernelspec": {
   "display_name": "Python 3 (ipykernel)",
   "language": "python",
   "name": "python3"
  },
  "language_info": {
   "codemirror_mode": {
    "name": "ipython",
    "version": 3
   },
   "file_extension": ".py",
   "mimetype": "text/x-python",
   "name": "python",
   "nbconvert_exporter": "python",
   "pygments_lexer": "ipython3",
   "version": "3.11.3"
  }
 },
 "nbformat": 4,
 "nbformat_minor": 5
}
