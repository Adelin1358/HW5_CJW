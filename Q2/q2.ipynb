{
 "cells": [
  {
   "cell_type": "code",
   "execution_count": 12,
   "id": "09fbde4c",
   "metadata": {},
   "outputs": [
    {
     "name": "stdout",
     "output_type": "stream",
     "text": [
      "***Annual Temperature Report for Seoul in 2022***\n",
      "Day with the Largest Temperature Variation: 2022-11-29\n",
      "Maximum TeTemperature 16.6 Celsius\n",
      "Day with the Smallest Temperature Variation: 2022-06-29\n",
      "Minimum TeTemperature 1.7 Celsius\n"
     ]
    }
   ],
   "source": [
    "import csv\n",
    "def main():\n",
    "    f = open('2022_Seoul_Temp.csv')\n",
    "    data = csv.reader(f)\n",
    "    next(data)\n",
    "\n",
    "    max_diff = -1\n",
    "    min_diff = 100\n",
    "    max_date = ''\n",
    "    min_date = ''\n",
    "\n",
    "    for row in data:\n",
    "    \n",
    "        try:\n",
    "            date = row[0]\n",
    "            max_temp = float(row[4])\n",
    "            min_temp = float(row[3])\n",
    "        \n",
    "            diff = max_temp - min_temp\n",
    "            \n",
    "            if diff > max_diff:\n",
    "                max_diff = diff\n",
    "                max_date = date\n",
    "        \n",
    "            if diff < min_diff:\n",
    "                min_diff = diff\n",
    "                min_date = date\n",
    "    \n",
    "        except ValueError:\n",
    "            continue\n",
    "    f.close()\n",
    "\n",
    "    print(\"***Annual Temperature Report for Seoul in 2022***\")\n",
    "    print(\"Day with the Largest Temperature Variation:\",  max_date)\n",
    "    print(\"Maximum TeTemperature\",round(max_diff,2),\"Celsius\")\n",
    "    print(\"Day with the Smallest Temperature Variation:\",  min_date)\n",
    "    print(\"Minimum TeTemperature\",round(min_diff,2),\"Celsius\")\n",
    "\n",
    "if __name__ == '__main__':\n",
    "    main()"
   ]
  },
  {
   "cell_type": "code",
   "execution_count": null,
   "id": "51570122",
   "metadata": {},
   "outputs": [],
   "source": []
  }
 ],
 "metadata": {
  "kernelspec": {
   "display_name": "Python 3 (ipykernel)",
   "language": "python",
   "name": "python3"
  },
  "language_info": {
   "codemirror_mode": {
    "name": "ipython",
    "version": 3
   },
   "file_extension": ".py",
   "mimetype": "text/x-python",
   "name": "python",
   "nbconvert_exporter": "python",
   "pygments_lexer": "ipython3",
   "version": "3.11.3"
  }
 },
 "nbformat": 4,
 "nbformat_minor": 5
}
